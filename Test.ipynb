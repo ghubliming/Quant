{
 "cells": [
  {
   "cell_type": "code",
   "id": "initial_id",
   "metadata": {
    "collapsed": true,
    "ExecuteTime": {
     "end_time": "2024-09-10T21:31:50.550218Z",
     "start_time": "2024-09-10T21:31:50.181921Z"
    }
   },
   "source": [
    "import yfinance as yf\n",
    "import matplotlib.pyplot as plt\n",
    "\n",
    "start_date = \"2023-05-01\"\n",
    "\n",
    "test_date = \"2023-01-02\"\n",
    "\n",
    "end_date = \"2023-12-31\"\n",
    "forex = yf.Ticker(\"EURUSD=X\")\n",
    "forex = yf.Ticker(\"AAPL\")\n",
    "\n",
    "data = forex.history(start=start_date, end=end_date, interval=\"1h\")\n",
    "#data = data['Close']\n",
    "\n",
    "date = test_date + \" 00:00:00+00:00\"\n",
    "#print(data)\n",
    "exchange_rate = data.loc[date]\n",
    "print(exchange_rate)\n",
    "#print(data.index.date)\n",
    "\n",
    "\"\"\"\n",
    "print(exchange_rate)\n",
    "\n",
    "plt.figure(figsize=(12, 6))\n",
    "plt.plot(data.index.date, data['Close'], label='Stock Price')\n",
    "\"\"\""
   ],
   "outputs": [
    {
     "ename": "KeyError",
     "evalue": "'2023-01-02 00:00:00+00:00'",
     "output_type": "error",
     "traceback": [
      "\u001B[0;31m---------------------------------------------------------------------------\u001B[0m",
      "\u001B[0;31mKeyError\u001B[0m                                  Traceback (most recent call last)",
      "File \u001B[0;32mindex.pyx:609\u001B[0m, in \u001B[0;36mpandas._libs.index.DatetimeEngine.get_loc\u001B[0;34m()\u001B[0m\n",
      "File \u001B[0;32mpandas/_libs/hashtable_class_helper.pxi:2606\u001B[0m, in \u001B[0;36mpandas._libs.hashtable.Int64HashTable.get_item\u001B[0;34m()\u001B[0m\n",
      "File \u001B[0;32mpandas/_libs/hashtable_class_helper.pxi:2630\u001B[0m, in \u001B[0;36mpandas._libs.hashtable.Int64HashTable.get_item\u001B[0;34m()\u001B[0m\n",
      "\u001B[0;31mKeyError\u001B[0m: 1672617600000000000",
      "\nDuring handling of the above exception, another exception occurred:\n",
      "\u001B[0;31mKeyError\u001B[0m                                  Traceback (most recent call last)",
      "File \u001B[0;32m~/miniconda3/lib/python3.12/site-packages/pandas/core/indexes/base.py:3805\u001B[0m, in \u001B[0;36mIndex.get_loc\u001B[0;34m(self, key)\u001B[0m\n\u001B[1;32m   3804\u001B[0m \u001B[38;5;28;01mtry\u001B[39;00m:\n\u001B[0;32m-> 3805\u001B[0m     \u001B[38;5;28;01mreturn\u001B[39;00m \u001B[38;5;28mself\u001B[39m\u001B[38;5;241m.\u001B[39m_engine\u001B[38;5;241m.\u001B[39mget_loc(casted_key)\n\u001B[1;32m   3806\u001B[0m \u001B[38;5;28;01mexcept\u001B[39;00m \u001B[38;5;167;01mKeyError\u001B[39;00m \u001B[38;5;28;01mas\u001B[39;00m err:\n",
      "File \u001B[0;32mindex.pyx:577\u001B[0m, in \u001B[0;36mpandas._libs.index.DatetimeEngine.get_loc\u001B[0;34m()\u001B[0m\n",
      "File \u001B[0;32mindex.pyx:611\u001B[0m, in \u001B[0;36mpandas._libs.index.DatetimeEngine.get_loc\u001B[0;34m()\u001B[0m\n",
      "\u001B[0;31mKeyError\u001B[0m: Timestamp('2023-01-02 00:00:00+0000', tz='UTC')",
      "\nThe above exception was the direct cause of the following exception:\n",
      "\u001B[0;31mKeyError\u001B[0m                                  Traceback (most recent call last)",
      "File \u001B[0;32m~/miniconda3/lib/python3.12/site-packages/pandas/core/indexes/datetimes.py:630\u001B[0m, in \u001B[0;36mDatetimeIndex.get_loc\u001B[0;34m(self, key)\u001B[0m\n\u001B[1;32m    629\u001B[0m \u001B[38;5;28;01mtry\u001B[39;00m:\n\u001B[0;32m--> 630\u001B[0m     \u001B[38;5;28;01mreturn\u001B[39;00m Index\u001B[38;5;241m.\u001B[39mget_loc(\u001B[38;5;28mself\u001B[39m, key)\n\u001B[1;32m    631\u001B[0m \u001B[38;5;28;01mexcept\u001B[39;00m \u001B[38;5;167;01mKeyError\u001B[39;00m \u001B[38;5;28;01mas\u001B[39;00m err:\n",
      "File \u001B[0;32m~/miniconda3/lib/python3.12/site-packages/pandas/core/indexes/base.py:3812\u001B[0m, in \u001B[0;36mIndex.get_loc\u001B[0;34m(self, key)\u001B[0m\n\u001B[1;32m   3811\u001B[0m         \u001B[38;5;28;01mraise\u001B[39;00m InvalidIndexError(key)\n\u001B[0;32m-> 3812\u001B[0m     \u001B[38;5;28;01mraise\u001B[39;00m \u001B[38;5;167;01mKeyError\u001B[39;00m(key) \u001B[38;5;28;01mfrom\u001B[39;00m \u001B[38;5;21;01merr\u001B[39;00m\n\u001B[1;32m   3813\u001B[0m \u001B[38;5;28;01mexcept\u001B[39;00m \u001B[38;5;167;01mTypeError\u001B[39;00m:\n\u001B[1;32m   3814\u001B[0m     \u001B[38;5;66;03m# If we have a listlike key, _check_indexing_error will raise\u001B[39;00m\n\u001B[1;32m   3815\u001B[0m     \u001B[38;5;66;03m#  InvalidIndexError. Otherwise we fall through and re-raise\u001B[39;00m\n\u001B[1;32m   3816\u001B[0m     \u001B[38;5;66;03m#  the TypeError.\u001B[39;00m\n",
      "\u001B[0;31mKeyError\u001B[0m: Timestamp('2023-01-02 00:00:00+0000', tz='UTC')",
      "\nThe above exception was the direct cause of the following exception:\n",
      "\u001B[0;31mKeyError\u001B[0m                                  Traceback (most recent call last)",
      "Cell \u001B[0;32mIn[124], line 17\u001B[0m\n\u001B[1;32m     15\u001B[0m date \u001B[38;5;241m=\u001B[39m test_date \u001B[38;5;241m+\u001B[39m \u001B[38;5;124m\"\u001B[39m\u001B[38;5;124m 00:00:00+00:00\u001B[39m\u001B[38;5;124m\"\u001B[39m\n\u001B[1;32m     16\u001B[0m \u001B[38;5;66;03m#print(data)\u001B[39;00m\n\u001B[0;32m---> 17\u001B[0m exchange_rate \u001B[38;5;241m=\u001B[39m data\u001B[38;5;241m.\u001B[39mloc[date]\n\u001B[1;32m     18\u001B[0m \u001B[38;5;28mprint\u001B[39m(exchange_rate)\n\u001B[1;32m     19\u001B[0m \u001B[38;5;66;03m#print(data.index.date)\u001B[39;00m\n",
      "File \u001B[0;32m~/miniconda3/lib/python3.12/site-packages/pandas/core/indexing.py:1191\u001B[0m, in \u001B[0;36m_LocationIndexer.__getitem__\u001B[0;34m(self, key)\u001B[0m\n\u001B[1;32m   1189\u001B[0m maybe_callable \u001B[38;5;241m=\u001B[39m com\u001B[38;5;241m.\u001B[39mapply_if_callable(key, \u001B[38;5;28mself\u001B[39m\u001B[38;5;241m.\u001B[39mobj)\n\u001B[1;32m   1190\u001B[0m maybe_callable \u001B[38;5;241m=\u001B[39m \u001B[38;5;28mself\u001B[39m\u001B[38;5;241m.\u001B[39m_check_deprecated_callable_usage(key, maybe_callable)\n\u001B[0;32m-> 1191\u001B[0m \u001B[38;5;28;01mreturn\u001B[39;00m \u001B[38;5;28mself\u001B[39m\u001B[38;5;241m.\u001B[39m_getitem_axis(maybe_callable, axis\u001B[38;5;241m=\u001B[39maxis)\n",
      "File \u001B[0;32m~/miniconda3/lib/python3.12/site-packages/pandas/core/indexing.py:1431\u001B[0m, in \u001B[0;36m_LocIndexer._getitem_axis\u001B[0;34m(self, key, axis)\u001B[0m\n\u001B[1;32m   1429\u001B[0m \u001B[38;5;66;03m# fall thru to straight lookup\u001B[39;00m\n\u001B[1;32m   1430\u001B[0m \u001B[38;5;28mself\u001B[39m\u001B[38;5;241m.\u001B[39m_validate_key(key, axis)\n\u001B[0;32m-> 1431\u001B[0m \u001B[38;5;28;01mreturn\u001B[39;00m \u001B[38;5;28mself\u001B[39m\u001B[38;5;241m.\u001B[39m_get_label(key, axis\u001B[38;5;241m=\u001B[39maxis)\n",
      "File \u001B[0;32m~/miniconda3/lib/python3.12/site-packages/pandas/core/indexing.py:1381\u001B[0m, in \u001B[0;36m_LocIndexer._get_label\u001B[0;34m(self, label, axis)\u001B[0m\n\u001B[1;32m   1379\u001B[0m \u001B[38;5;28;01mdef\u001B[39;00m \u001B[38;5;21m_get_label\u001B[39m(\u001B[38;5;28mself\u001B[39m, label, axis: AxisInt):\n\u001B[1;32m   1380\u001B[0m     \u001B[38;5;66;03m# GH#5567 this will fail if the label is not present in the axis.\u001B[39;00m\n\u001B[0;32m-> 1381\u001B[0m     \u001B[38;5;28;01mreturn\u001B[39;00m \u001B[38;5;28mself\u001B[39m\u001B[38;5;241m.\u001B[39mobj\u001B[38;5;241m.\u001B[39mxs(label, axis\u001B[38;5;241m=\u001B[39maxis)\n",
      "File \u001B[0;32m~/miniconda3/lib/python3.12/site-packages/pandas/core/generic.py:4301\u001B[0m, in \u001B[0;36mNDFrame.xs\u001B[0;34m(self, key, axis, level, drop_level)\u001B[0m\n\u001B[1;32m   4299\u001B[0m             new_index \u001B[38;5;241m=\u001B[39m index[loc]\n\u001B[1;32m   4300\u001B[0m \u001B[38;5;28;01melse\u001B[39;00m:\n\u001B[0;32m-> 4301\u001B[0m     loc \u001B[38;5;241m=\u001B[39m index\u001B[38;5;241m.\u001B[39mget_loc(key)\n\u001B[1;32m   4303\u001B[0m     \u001B[38;5;28;01mif\u001B[39;00m \u001B[38;5;28misinstance\u001B[39m(loc, np\u001B[38;5;241m.\u001B[39mndarray):\n\u001B[1;32m   4304\u001B[0m         \u001B[38;5;28;01mif\u001B[39;00m loc\u001B[38;5;241m.\u001B[39mdtype \u001B[38;5;241m==\u001B[39m np\u001B[38;5;241m.\u001B[39mbool_:\n",
      "File \u001B[0;32m~/miniconda3/lib/python3.12/site-packages/pandas/core/indexes/datetimes.py:632\u001B[0m, in \u001B[0;36mDatetimeIndex.get_loc\u001B[0;34m(self, key)\u001B[0m\n\u001B[1;32m    630\u001B[0m     \u001B[38;5;28;01mreturn\u001B[39;00m Index\u001B[38;5;241m.\u001B[39mget_loc(\u001B[38;5;28mself\u001B[39m, key)\n\u001B[1;32m    631\u001B[0m \u001B[38;5;28;01mexcept\u001B[39;00m \u001B[38;5;167;01mKeyError\u001B[39;00m \u001B[38;5;28;01mas\u001B[39;00m err:\n\u001B[0;32m--> 632\u001B[0m     \u001B[38;5;28;01mraise\u001B[39;00m \u001B[38;5;167;01mKeyError\u001B[39;00m(orig_key) \u001B[38;5;28;01mfrom\u001B[39;00m \u001B[38;5;21;01merr\u001B[39;00m\n",
      "\u001B[0;31mKeyError\u001B[0m: '2023-01-02 00:00:00+00:00'"
     ]
    }
   ],
   "execution_count": 124
  },
  {
   "metadata": {
    "ExecuteTime": {
     "end_time": "2024-09-10T21:31:53.584972Z",
     "start_time": "2024-09-10T21:31:53.575779Z"
    }
   },
   "cell_type": "code",
   "source": [
    "import pandas as pd\n",
    "\n",
    "current_date = data.index[0].date()\n",
    "timestamp = pd.Timestamp(current_date.year, current_date.month, current_date.day, 12, 30)\n",
    "daily_buy_time = str(timestamp) + \"-05:00\"\n",
    "daily_data = data.loc[data.index == daily_buy_time]\n",
    "\n",
    "print(data.index)\n",
    "\n",
    "\n",
    "# Assuming `stock_data` is a pandas DataFrame with a DateTime index\n",
    "stock_data = data\n",
    "# Get the length of market open in hours (number of rows in the data)\n",
    "market_open_length_hour = len(stock_data.index)\n",
    "\n",
    "# Get the length of market open in days (unique dates)\n",
    "# Get the unique days (merge same dates)\n",
    "unique_days = stock_data.index.normalize().unique()  # Normalizes the time to midnight and gets unique dates\n",
    "market_open_length_day = len(unique_days)\n",
    "# Get the length of market open in weeks\n",
    "# Convert the index to a week-based frequency (Monday as the start of the week)\n",
    "market_open_length_week = len(stock_data.index.to_period('W').unique())\n",
    "\n",
    "# Get the length of market open in months\n",
    "# Convert the index to a month-based frequency\n",
    "market_open_length_month = len(stock_data.index.to_period('M').unique())\n",
    "\n",
    "# Output the results\n",
    "print(f\"Market open hours: {market_open_length_hour}\")\n",
    "print(f\"Market open days: {market_open_length_day}\")\n",
    "print(f\"Market open weeks: {market_open_length_week}\")\n",
    "print(f\"Market open months: {market_open_length_month}\")\n",
    "\n",
    "'''\n",
    "print(daily_data)\n",
    "\n",
    "\n",
    "if not daily_data.empty:\n",
    "    daily_close = daily_data['Close'].iloc[-1] \n",
    "    print(daily_close,\"Hey\")\n",
    "'''"
   ],
   "id": "b61ff01ceb5b62a8",
   "outputs": [
    {
     "name": "stdout",
     "output_type": "stream",
     "text": [
      "DatetimeIndex(['2023-05-01 09:30:00-04:00', '2023-05-01 10:30:00-04:00',\n",
      "               '2023-05-01 11:30:00-04:00', '2023-05-01 12:30:00-04:00',\n",
      "               '2023-05-01 13:30:00-04:00', '2023-05-01 14:30:00-04:00',\n",
      "               '2023-05-01 15:30:00-04:00', '2023-05-02 09:30:00-04:00',\n",
      "               '2023-05-02 10:30:00-04:00', '2023-05-02 11:30:00-04:00',\n",
      "               ...\n",
      "               '2023-12-28 13:30:00-05:00', '2023-12-28 14:30:00-05:00',\n",
      "               '2023-12-28 15:30:00-05:00', '2023-12-29 09:30:00-05:00',\n",
      "               '2023-12-29 10:30:00-05:00', '2023-12-29 11:30:00-05:00',\n",
      "               '2023-12-29 12:30:00-05:00', '2023-12-29 13:30:00-05:00',\n",
      "               '2023-12-29 14:30:00-05:00', '2023-12-29 15:30:00-05:00'],\n",
      "              dtype='datetime64[ns, America/New_York]', name='Datetime', length=1175, freq=None)\n",
      "Market open hours: 1175\n",
      "Market open days: 169\n",
      "Market open weeks: 35\n",
      "Market open months: 8\n"
     ]
    },
    {
     "name": "stderr",
     "output_type": "stream",
     "text": [
      "/var/folders/zm/m96r0q8s0sn2krvg5xn10_qr0000gn/T/ipykernel_28633/202319027.py:22: UserWarning: Converting to PeriodArray/Index representation will drop timezone information.\n",
      "  market_open_length_week = len(stock_data.index.to_period('W').unique())\n",
      "/var/folders/zm/m96r0q8s0sn2krvg5xn10_qr0000gn/T/ipykernel_28633/202319027.py:26: UserWarning: Converting to PeriodArray/Index representation will drop timezone information.\n",
      "  market_open_length_month = len(stock_data.index.to_period('M').unique())\n"
     ]
    },
    {
     "data": {
      "text/plain": [
       "'\\nprint(daily_data)\\n\\n\\nif not daily_data.empty:\\n    daily_close = daily_data[\\'Close\\'].iloc[-1] \\n    print(daily_close,\"Hey\")\\n'"
      ]
     },
     "execution_count": 125,
     "metadata": {},
     "output_type": "execute_result"
    }
   ],
   "execution_count": 125
  },
  {
   "metadata": {},
   "cell_type": "code",
   "outputs": [],
   "execution_count": null,
   "source": [
    "market_open_length_hour = len(stock_data.index)\n",
    "market_open_length_day = len(unique_days)\n",
    "market_open_length_week = len(stock_data.index.to_period('W').unique())\n",
    "market_open_length_month = len(stock_data.index.to_period('M').unique())\n",
    "\n",
    "# Output the results\n",
    "print(f\"Market open hours: {market_open_length_hour}\")\n",
    "print(f\"Market open days: {market_open_length_day}\")\n",
    "print(f\"Market open weeks: {market_open_length_week}\")\n",
    "print(f\"Market open months: {market_open_length_month}\")\n"
   ],
   "id": "ea9d4c728fbad669"
  },
  {
   "metadata": {},
   "cell_type": "code",
   "outputs": [],
   "execution_count": null,
   "source": [
    "# Ensure yfinance_date_timestamp and yfinance_date_timestamp_2 are in UTC and formatted correctly\n",
    "yfinance_date_timestamp = timestamp_utc.strftime('%Y-%m-%d %H:%M:%S%z')\n",
    "yfinance_date_timestamp_2 = (timestamp_utc + timedelta(minutes=30)).strftime('%Y-%m-%d %H:%M:%S%z')\n",
    "\n",
    "# Convert yfinance_date_timestamp and yfinance_date_timestamp_2 to Timestamps with UTC timezone\n",
    "yfinance_date_timestamp = pd.Timestamp(yfinance_date_timestamp).tz_localize('UTC')\n",
    "yfinance_date_timestamp_2 = pd.Timestamp(yfinance_date_timestamp_2).tz_localize('UTC')\n",
    "\n",
    "# Check if either timestamp is in stock_data.index\n",
    "if any(ts in stock_data.index for ts in [yfinance_date_timestamp, yfinance_date_timestamp_2]):\n",
    "    # Use .loc with .isin() to handle multiple timestamps\n",
    "    daily_data = stock_data.loc[stock_data.index.isin([yfinance_date_timestamp, yfinance_date_timestamp_2])]\n",
    "    \n",
    "    if not daily_data.empty:\n",
    "        # Assuming you want to use the first available timestamp from the daily_data\n",
    "        timestamp = daily_data.index[0]  # Or use a specific logic to select a timestamp\n",
    "        price = daily_data.loc[timestamp, 'Close']\n",
    "        shares = usd_amount / market_open_length_hour / price\n",
    "        hourly_purchases.append((timestamp, shares, price))\n"
   ],
   "id": "f963b8d934c88955"
  }
 ],
 "metadata": {
  "kernelspec": {
   "display_name": "Python 3",
   "language": "python",
   "name": "python3"
  },
  "language_info": {
   "codemirror_mode": {
    "name": "ipython",
    "version": 2
   },
   "file_extension": ".py",
   "mimetype": "text/x-python",
   "name": "python",
   "nbconvert_exporter": "python",
   "pygments_lexer": "ipython2",
   "version": "2.7.6"
  }
 },
 "nbformat": 4,
 "nbformat_minor": 5
}
